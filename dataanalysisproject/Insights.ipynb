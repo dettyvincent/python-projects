{
 "cells": [
  {
   "cell_type": "code",
   "execution_count": null,
   "id": "fa670e24-c94e-4d2b-8ebc-78c3ae1f690f",
   "metadata": {},
   "outputs": [],
   "source": [
    "#Insights\n",
    "\n",
    "myplot(Salary)\n",
    "\n",
    "#Kobe Bryant is the top paid player through all the seasons. His record was over 30 million dollars in 2013.\n",
    "\n",
    "myplot(Salary / Games)\n",
    "myplot(Salary / FieldGoals)\n",
    "\n",
    "#Kobe Bryant and Derrick Rose were getting paid so much per game in 2013. This anomaly appeared because they could not play game in 2013 because of injury.\n",
    "#Players got paid regardless of whether they played or not. To avoid these anomalies from the visualizations, normalize the in-game metrics.\n",
    "\n",
    "#In-Game metrics \n",
    "myplot(FieldGoals / Games)\n",
    "\n",
    "#Kobe Bryant had high amount of field goals back in time but it dropped alot by 2014. Le Bron James is at the top in 2014.\n",
    "\n",
    "myplot(FieldGoals / FieldGoalAttempts)\n",
    "myplot(FieldGoalAttempts / Games)\n",
    "myplot(Points / Games)\n",
    "\n",
    "# This shows the aacuracy of the players. Dwight Howard is the most accurate player but the number of attempts per game is low for Dwight Howard. That's why he is scoring less points per game.\n"
   ]
  },
  {
   "cell_type": "code",
   "execution_count": null,
   "id": "804a6e01-41a4-4448-bde0-23ddfbfac3f0",
   "metadata": {},
   "outputs": [],
   "source": []
  }
 ],
 "metadata": {
  "kernelspec": {
   "display_name": "Python 3 (ipykernel)",
   "language": "python",
   "name": "python3"
  },
  "language_info": {
   "codemirror_mode": {
    "name": "ipython",
    "version": 3
   },
   "file_extension": ".py",
   "mimetype": "text/x-python",
   "name": "python",
   "nbconvert_exporter": "python",
   "pygments_lexer": "ipython3",
   "version": "3.12.4"
  }
 },
 "nbformat": 4,
 "nbformat_minor": 5
}
